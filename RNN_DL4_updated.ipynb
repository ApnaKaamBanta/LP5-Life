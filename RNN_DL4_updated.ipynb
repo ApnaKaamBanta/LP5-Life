{
  "nbformat": 4,
  "nbformat_minor": 0,
  "metadata": {
    "colab": {
      "provenance": [],
      "gpuType": "T4"
    },
    "kernelspec": {
      "name": "python3",
      "display_name": "Python 3"
    },
    "language_info": {
      "name": "python"
    },
    "accelerator": "GPU",
    "gpuClass": "standard"
  },
  "cells": [
    {
      "cell_type": "code",
      "execution_count": 1,
      "metadata": {
        "id": "ufkn7wC4paDF"
      },
      "outputs": [],
      "source": [
        "import numpy as np\n",
        "import matplotlib.pyplot as plt\n",
        "import pandas as pd\n",
        "from sklearn.preprocessing import MinMaxScaler\n"
      ]
    },
    {
      "cell_type": "code",
      "source": [
        "data = pd.read_csv('/content/GOOGL.csv', date_parser = True)\n",
        "data.tail()"
      ],
      "metadata": {
        "colab": {
          "base_uri": "https://localhost:8080/",
          "height": 357
        },
        "id": "KzbqwAc1pn7Y",
        "outputId": "b378991e-9ff1-488a-e70f-b239d9f3bd76"
      },
      "execution_count": 2,
      "outputs": [
        {
          "output_type": "execute_result",
          "data": {
            "text/plain": [
              "            Date         Open         High          Low        Close  \\\n",
              "4426  2022-03-18  2668.489990  2724.879883  2645.169922  2722.510010   \n",
              "4427  2022-03-21  2723.270020  2741.000000  2681.850098  2722.030029   \n",
              "4428  2022-03-22  2722.030029  2821.000000  2722.030029  2797.360107   \n",
              "4429  2022-03-23  2774.050049  2791.770020  2756.699951  2765.510010   \n",
              "4430  2022-03-24  2784.000000  2832.379883  2755.010010  2831.439941   \n",
              "\n",
              "        Adj Close   Volume  \n",
              "4426  2722.510010  2223100  \n",
              "4427  2722.030029  1341600  \n",
              "4428  2797.360107  1774800  \n",
              "4429  2765.510010  1257700  \n",
              "4430  2831.439941  1317900  "
            ],
            "text/html": [
              "\n",
              "  <div id=\"df-2ab5de99-18b8-4ae9-8fc0-c7629f79359b\">\n",
              "    <div class=\"colab-df-container\">\n",
              "      <div>\n",
              "<style scoped>\n",
              "    .dataframe tbody tr th:only-of-type {\n",
              "        vertical-align: middle;\n",
              "    }\n",
              "\n",
              "    .dataframe tbody tr th {\n",
              "        vertical-align: top;\n",
              "    }\n",
              "\n",
              "    .dataframe thead th {\n",
              "        text-align: right;\n",
              "    }\n",
              "</style>\n",
              "<table border=\"1\" class=\"dataframe\">\n",
              "  <thead>\n",
              "    <tr style=\"text-align: right;\">\n",
              "      <th></th>\n",
              "      <th>Date</th>\n",
              "      <th>Open</th>\n",
              "      <th>High</th>\n",
              "      <th>Low</th>\n",
              "      <th>Close</th>\n",
              "      <th>Adj Close</th>\n",
              "      <th>Volume</th>\n",
              "    </tr>\n",
              "  </thead>\n",
              "  <tbody>\n",
              "    <tr>\n",
              "      <th>4426</th>\n",
              "      <td>2022-03-18</td>\n",
              "      <td>2668.489990</td>\n",
              "      <td>2724.879883</td>\n",
              "      <td>2645.169922</td>\n",
              "      <td>2722.510010</td>\n",
              "      <td>2722.510010</td>\n",
              "      <td>2223100</td>\n",
              "    </tr>\n",
              "    <tr>\n",
              "      <th>4427</th>\n",
              "      <td>2022-03-21</td>\n",
              "      <td>2723.270020</td>\n",
              "      <td>2741.000000</td>\n",
              "      <td>2681.850098</td>\n",
              "      <td>2722.030029</td>\n",
              "      <td>2722.030029</td>\n",
              "      <td>1341600</td>\n",
              "    </tr>\n",
              "    <tr>\n",
              "      <th>4428</th>\n",
              "      <td>2022-03-22</td>\n",
              "      <td>2722.030029</td>\n",
              "      <td>2821.000000</td>\n",
              "      <td>2722.030029</td>\n",
              "      <td>2797.360107</td>\n",
              "      <td>2797.360107</td>\n",
              "      <td>1774800</td>\n",
              "    </tr>\n",
              "    <tr>\n",
              "      <th>4429</th>\n",
              "      <td>2022-03-23</td>\n",
              "      <td>2774.050049</td>\n",
              "      <td>2791.770020</td>\n",
              "      <td>2756.699951</td>\n",
              "      <td>2765.510010</td>\n",
              "      <td>2765.510010</td>\n",
              "      <td>1257700</td>\n",
              "    </tr>\n",
              "    <tr>\n",
              "      <th>4430</th>\n",
              "      <td>2022-03-24</td>\n",
              "      <td>2784.000000</td>\n",
              "      <td>2832.379883</td>\n",
              "      <td>2755.010010</td>\n",
              "      <td>2831.439941</td>\n",
              "      <td>2831.439941</td>\n",
              "      <td>1317900</td>\n",
              "    </tr>\n",
              "  </tbody>\n",
              "</table>\n",
              "</div>\n",
              "      <button class=\"colab-df-convert\" onclick=\"convertToInteractive('df-2ab5de99-18b8-4ae9-8fc0-c7629f79359b')\"\n",
              "              title=\"Convert this dataframe to an interactive table.\"\n",
              "              style=\"display:none;\">\n",
              "        \n",
              "  <svg xmlns=\"http://www.w3.org/2000/svg\" height=\"24px\"viewBox=\"0 0 24 24\"\n",
              "       width=\"24px\">\n",
              "    <path d=\"M0 0h24v24H0V0z\" fill=\"none\"/>\n",
              "    <path d=\"M18.56 5.44l.94 2.06.94-2.06 2.06-.94-2.06-.94-.94-2.06-.94 2.06-2.06.94zm-11 1L8.5 8.5l.94-2.06 2.06-.94-2.06-.94L8.5 2.5l-.94 2.06-2.06.94zm10 10l.94 2.06.94-2.06 2.06-.94-2.06-.94-.94-2.06-.94 2.06-2.06.94z\"/><path d=\"M17.41 7.96l-1.37-1.37c-.4-.4-.92-.59-1.43-.59-.52 0-1.04.2-1.43.59L10.3 9.45l-7.72 7.72c-.78.78-.78 2.05 0 2.83L4 21.41c.39.39.9.59 1.41.59.51 0 1.02-.2 1.41-.59l7.78-7.78 2.81-2.81c.8-.78.8-2.07 0-2.86zM5.41 20L4 18.59l7.72-7.72 1.47 1.35L5.41 20z\"/>\n",
              "  </svg>\n",
              "      </button>\n",
              "      \n",
              "  <style>\n",
              "    .colab-df-container {\n",
              "      display:flex;\n",
              "      flex-wrap:wrap;\n",
              "      gap: 12px;\n",
              "    }\n",
              "\n",
              "    .colab-df-convert {\n",
              "      background-color: #E8F0FE;\n",
              "      border: none;\n",
              "      border-radius: 50%;\n",
              "      cursor: pointer;\n",
              "      display: none;\n",
              "      fill: #1967D2;\n",
              "      height: 32px;\n",
              "      padding: 0 0 0 0;\n",
              "      width: 32px;\n",
              "    }\n",
              "\n",
              "    .colab-df-convert:hover {\n",
              "      background-color: #E2EBFA;\n",
              "      box-shadow: 0px 1px 2px rgba(60, 64, 67, 0.3), 0px 1px 3px 1px rgba(60, 64, 67, 0.15);\n",
              "      fill: #174EA6;\n",
              "    }\n",
              "\n",
              "    [theme=dark] .colab-df-convert {\n",
              "      background-color: #3B4455;\n",
              "      fill: #D2E3FC;\n",
              "    }\n",
              "\n",
              "    [theme=dark] .colab-df-convert:hover {\n",
              "      background-color: #434B5C;\n",
              "      box-shadow: 0px 1px 3px 1px rgba(0, 0, 0, 0.15);\n",
              "      filter: drop-shadow(0px 1px 2px rgba(0, 0, 0, 0.3));\n",
              "      fill: #FFFFFF;\n",
              "    }\n",
              "  </style>\n",
              "\n",
              "      <script>\n",
              "        const buttonEl =\n",
              "          document.querySelector('#df-2ab5de99-18b8-4ae9-8fc0-c7629f79359b button.colab-df-convert');\n",
              "        buttonEl.style.display =\n",
              "          google.colab.kernel.accessAllowed ? 'block' : 'none';\n",
              "\n",
              "        async function convertToInteractive(key) {\n",
              "          const element = document.querySelector('#df-2ab5de99-18b8-4ae9-8fc0-c7629f79359b');\n",
              "          const dataTable =\n",
              "            await google.colab.kernel.invokeFunction('convertToInteractive',\n",
              "                                                     [key], {});\n",
              "          if (!dataTable) return;\n",
              "\n",
              "          const docLinkHtml = 'Like what you see? Visit the ' +\n",
              "            '<a target=\"_blank\" href=https://colab.research.google.com/notebooks/data_table.ipynb>data table notebook</a>'\n",
              "            + ' to learn more about interactive tables.';\n",
              "          element.innerHTML = '';\n",
              "          dataTable['output_type'] = 'display_data';\n",
              "          await google.colab.output.renderOutput(dataTable, element);\n",
              "          const docLink = document.createElement('div');\n",
              "          docLink.innerHTML = docLinkHtml;\n",
              "          element.appendChild(docLink);\n",
              "        }\n",
              "      </script>\n",
              "    </div>\n",
              "  </div>\n",
              "  "
            ]
          },
          "metadata": {},
          "execution_count": 2
        }
      ]
    },
    {
      "cell_type": "code",
      "source": [
        "data_training = data[data['Date']<'2019-01-01'].copy()\n",
        "data_test = data[data['Date']>='2019-01-01'].copy()"
      ],
      "metadata": {
        "id": "VdGg3A2mpxYc"
      },
      "execution_count": 3,
      "outputs": []
    },
    {
      "cell_type": "code",
      "source": [
        "data_training = data_training.drop(['Date', 'Adj Close'], axis = 1)"
      ],
      "metadata": {
        "id": "QwiZp9K4p2S1"
      },
      "execution_count": 4,
      "outputs": []
    },
    {
      "cell_type": "code",
      "source": [
        "scaler = MinMaxScaler()\n",
        "data_training = scaler.fit_transform(data_training)\n",
        "data_training"
      ],
      "metadata": {
        "colab": {
          "base_uri": "https://localhost:8080/"
        },
        "id": "reaPiVcrp5S1",
        "outputId": "76a18720-5b09-4cdb-e390-680f5dd695f9"
      },
      "execution_count": 5,
      "outputs": [
        {
          "output_type": "execute_result",
          "data": {
            "text/plain": [
              "array([[3.27076291e-04, 9.36027567e-04, 0.00000000e+00, 1.33688677e-04,\n",
              "        5.40710393e-01],\n",
              "       [7.34916593e-04, 2.96140240e-03, 1.87022750e-03, 3.36247683e-03,\n",
              "        2.73350337e-01],\n",
              "       [4.66793067e-03, 4.73662871e-03, 5.39234743e-03, 3.80405377e-03,\n",
              "        2.17265746e-01],\n",
              "       ...,\n",
              "       [7.87877956e-01, 8.08064229e-01, 7.89295551e-01, 8.11727769e-01,\n",
              "        2.17957570e-02],\n",
              "       [8.14744202e-01, 8.16842824e-01, 8.18102800e-01, 8.06693170e-01,\n",
              "        1.46918004e-02],\n",
              "       [8.13396822e-01, 8.15843250e-01, 8.10728176e-01, 8.05300884e-01,\n",
              "        1.39028803e-02]])"
            ]
          },
          "metadata": {},
          "execution_count": 5
        }
      ]
    },
    {
      "cell_type": "code",
      "source": [
        "X_train = []\n",
        "y_train = []\n",
        "\n",
        "for i in range(60, data_training.shape[0]):\n",
        "    X_train.append(data_training[i-60:i])\n",
        "    y_train.append(data_training[i, 0])\n",
        "    \n",
        "X_train, y_train = np.array(X_train), np.array(y_train)"
      ],
      "metadata": {
        "id": "oSlKwb8pp6g9"
      },
      "execution_count": 6,
      "outputs": []
    },
    {
      "cell_type": "code",
      "source": [
        "X_train.shape"
      ],
      "metadata": {
        "colab": {
          "base_uri": "https://localhost:8080/"
        },
        "id": "4Qw7q8NUp-sJ",
        "outputId": "dd380bf7-97ea-4d97-b0de-f46b2a4c8bf4"
      },
      "execution_count": 7,
      "outputs": [
        {
          "output_type": "execute_result",
          "data": {
            "text/plain": [
              "(3557, 60, 5)"
            ]
          },
          "metadata": {},
          "execution_count": 7
        }
      ]
    },
    {
      "cell_type": "code",
      "source": [
        "from tensorflow.keras import Sequential\n",
        "from tensorflow.keras.layers import Dense, LSTM, Dropout"
      ],
      "metadata": {
        "id": "noaDuefEqGkr"
      },
      "execution_count": 8,
      "outputs": []
    },
    {
      "cell_type": "code",
      "source": [
        "regressor = Sequential()\n",
        "\n",
        "regressor.add(LSTM(units = 60, activation = 'relu', return_sequences = True, input_shape = (X_train.shape[1], 5)))\n",
        "regressor.add(Dropout(0.2))\n",
        "\n",
        "regressor.add(LSTM(units = 60, activation = 'relu', return_sequences = True))\n",
        "regressor.add(Dropout(0.2))\n",
        "\n",
        "regressor.add(LSTM(units = 80, activation = 'relu', return_sequences = True))\n",
        "regressor.add(Dropout(0.2))\n",
        "\n",
        "regressor.add(LSTM(units = 120, activation = 'relu'))\n",
        "regressor.add(Dropout(0.2))\n",
        "\n",
        "regressor.add(Dense(units = 1))"
      ],
      "metadata": {
        "colab": {
          "base_uri": "https://localhost:8080/"
        },
        "id": "oxTgQT80qI5O",
        "outputId": "a81ceb35-31de-433a-b284-7b98867f1ee8"
      },
      "execution_count": 9,
      "outputs": [
        {
          "output_type": "stream",
          "name": "stderr",
          "text": [
            "WARNING:tensorflow:Layer lstm will not use cuDNN kernels since it doesn't meet the criteria. It will use a generic GPU kernel as fallback when running on GPU.\n",
            "WARNING:tensorflow:Layer lstm_1 will not use cuDNN kernels since it doesn't meet the criteria. It will use a generic GPU kernel as fallback when running on GPU.\n",
            "WARNING:tensorflow:Layer lstm_2 will not use cuDNN kernels since it doesn't meet the criteria. It will use a generic GPU kernel as fallback when running on GPU.\n",
            "WARNING:tensorflow:Layer lstm_3 will not use cuDNN kernels since it doesn't meet the criteria. It will use a generic GPU kernel as fallback when running on GPU.\n"
          ]
        }
      ]
    },
    {
      "cell_type": "code",
      "source": [
        "regressor.summary()"
      ],
      "metadata": {
        "colab": {
          "base_uri": "https://localhost:8080/"
        },
        "id": "ABRiQtl0qLUL",
        "outputId": "1144e909-a818-45b6-d90e-2081c241b9cc"
      },
      "execution_count": 10,
      "outputs": [
        {
          "output_type": "stream",
          "name": "stdout",
          "text": [
            "Model: \"sequential\"\n",
            "_________________________________________________________________\n",
            " Layer (type)                Output Shape              Param #   \n",
            "=================================================================\n",
            " lstm (LSTM)                 (None, 60, 60)            15840     \n",
            "                                                                 \n",
            " dropout (Dropout)           (None, 60, 60)            0         \n",
            "                                                                 \n",
            " lstm_1 (LSTM)               (None, 60, 60)            29040     \n",
            "                                                                 \n",
            " dropout_1 (Dropout)         (None, 60, 60)            0         \n",
            "                                                                 \n",
            " lstm_2 (LSTM)               (None, 60, 80)            45120     \n",
            "                                                                 \n",
            " dropout_2 (Dropout)         (None, 60, 80)            0         \n",
            "                                                                 \n",
            " lstm_3 (LSTM)               (None, 120)               96480     \n",
            "                                                                 \n",
            " dropout_3 (Dropout)         (None, 120)               0         \n",
            "                                                                 \n",
            " dense (Dense)               (None, 1)                 121       \n",
            "                                                                 \n",
            "=================================================================\n",
            "Total params: 186,601\n",
            "Trainable params: 186,601\n",
            "Non-trainable params: 0\n",
            "_________________________________________________________________\n"
          ]
        }
      ]
    },
    {
      "cell_type": "code",
      "source": [
        "regressor.compile(optimizer='adam', loss = 'mean_squared_error')\n",
        "regressor.fit(X_train, y_train, epochs=50, batch_size=32)"
      ],
      "metadata": {
        "colab": {
          "base_uri": "https://localhost:8080/"
        },
        "id": "d8C4Hn-aqOp-",
        "outputId": "469393cc-a375-45df-de27-f3bce3f05685"
      },
      "execution_count": null,
      "outputs": [
        {
          "output_type": "stream",
          "name": "stdout",
          "text": [
            "Epoch 1/50\n",
            "112/112 [==============================] - 58s 420ms/step - loss: 0.0249\n",
            "Epoch 2/50\n",
            "112/112 [==============================] - 47s 424ms/step - loss: 0.0021\n",
            "Epoch 3/50\n",
            "112/112 [==============================] - 48s 429ms/step - loss: 0.0018\n",
            "Epoch 4/50\n",
            "112/112 [==============================] - 53s 471ms/step - loss: 0.0017\n",
            "Epoch 5/50\n",
            " 41/112 [=========>....................] - ETA: 38s - loss: 0.0017"
          ]
        }
      ]
    },
    {
      "cell_type": "code",
      "source": [
        "past_60_days = data_training.tail(60)"
      ],
      "metadata": {
        "id": "m2nTPhzJqzVJ"
      },
      "execution_count": null,
      "outputs": []
    },
    {
      "cell_type": "code",
      "source": [
        "df = past_60_days.append(data_test, ignore_index = True)\n",
        "df = df.drop(['Date', 'Adj Close'], axis = 1)\n",
        "df.head()"
      ],
      "metadata": {
        "id": "X0myJ7t8q026"
      },
      "execution_count": null,
      "outputs": []
    },
    {
      "cell_type": "code",
      "source": [
        "inputs = scaler.transform(df)\n",
        "inputs"
      ],
      "metadata": {
        "id": "vxzapfetq1s5"
      },
      "execution_count": null,
      "outputs": []
    },
    {
      "cell_type": "code",
      "source": [
        "X_test = []\n",
        "y_test = []\n",
        "\n",
        "for i in range(60, inputs.shape[0]):\n",
        "    X_test.append(inputs[i-60:i])\n",
        "    y_test.append(inputs[i, 0])\n",
        "\n",
        "X_test, y_test = np.array(X_test), np.array(y_test)\n",
        "X_test.shape, y_test.shape"
      ],
      "metadata": {
        "id": "cKWpcbCSq3Ij"
      },
      "execution_count": null,
      "outputs": []
    },
    {
      "cell_type": "code",
      "source": [
        "y_pred = regressor.predict(X_test)"
      ],
      "metadata": {
        "id": "jE49HjVoq6bY"
      },
      "execution_count": null,
      "outputs": []
    },
    {
      "cell_type": "code",
      "source": [
        "scaler.scale_"
      ],
      "metadata": {
        "id": "1F2tsn0hq9LM"
      },
      "execution_count": null,
      "outputs": []
    },
    {
      "cell_type": "code",
      "source": [
        "scale = 1/8.18605127e-04\n",
        "scale"
      ],
      "metadata": {
        "id": "SgkryeWrq_R7"
      },
      "execution_count": null,
      "outputs": []
    },
    {
      "cell_type": "code",
      "source": [
        "y_pred = y_pred*scale\n",
        "y_test = y_test*scale"
      ],
      "metadata": {
        "id": "vQPWFmD4rA8m"
      },
      "execution_count": null,
      "outputs": []
    },
    {
      "cell_type": "code",
      "source": [
        "# Visualising the results\n",
        "plt.figure(figsize=(14,5))\n",
        "plt.plot(y_test, color = 'red', label = 'Real Google Stock Price')\n",
        "plt.plot(y_pred, color = 'blue', label = 'Predicted Google Stock Price')\n",
        "plt.title('Google Stock Price Prediction')\n",
        "plt.xlabel('Time')\n",
        "plt.ylabel('Google Stock Price')\n",
        "plt.legend()\n",
        "plt.show()"
      ],
      "metadata": {
        "id": "3a7jdFeSrCNI"
      },
      "execution_count": null,
      "outputs": []
    }
  ]
}